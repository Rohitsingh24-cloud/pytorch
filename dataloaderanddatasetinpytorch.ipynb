{
  "nbformat": 4,
  "nbformat_minor": 0,
  "metadata": {
    "colab": {
      "provenance": [],
      "authorship_tag": "ABX9TyPH9N/Z5kztMpv7bX4DCKYD",
      "include_colab_link": true
    },
    "kernelspec": {
      "name": "python3",
      "display_name": "Python 3"
    },
    "language_info": {
      "name": "python"
    }
  },
  "cells": [
    {
      "cell_type": "markdown",
      "metadata": {
        "id": "view-in-github",
        "colab_type": "text"
      },
      "source": [
        "<a href=\"https://colab.research.google.com/github/Rohitsingh24-cloud/pytorch/blob/main/dataloaderanddatasetinpytorch.ipynb\" target=\"_parent\"><img src=\"https://colab.research.google.com/assets/colab-badge.svg\" alt=\"Open In Colab\"/></a>"
      ]
    },
    {
      "cell_type": "code",
      "execution_count": 1,
      "metadata": {
        "id": "XbUg2W_ZEoLa"
      },
      "outputs": [],
      "source": [
        "import torch"
      ]
    },
    {
      "cell_type": "code",
      "source": [
        "from sklearn.datasets import make_classification"
      ],
      "metadata": {
        "id": "XapgRnjAEpt7"
      },
      "execution_count": 2,
      "outputs": []
    },
    {
      "cell_type": "code",
      "source": [
        "#step 1 creatae a synthetic classification dataset  using sklearn"
      ],
      "metadata": {
        "id": "LzRxMAxBS3VF"
      },
      "execution_count": 3,
      "outputs": []
    },
    {
      "cell_type": "code",
      "source": [
        "x,y=make_classification(n_samples=10,n_features=2,n_informative=2,n_redundant=0,random_state=2,n_classes=2)\n",
        "#     n_smaple  -       number of smaple/row\n",
        "#     n_features        number of column\n",
        "#     n_informative     number of important_feature\n",
        "#     n_redundant       number of redundant features\n",
        "#     n_classes         number of classes in output\n",
        "#     random_state      for reproducibility\n"
      ],
      "metadata": {
        "id": "ImzAzF-QTB6l"
      },
      "execution_count": 4,
      "outputs": []
    },
    {
      "cell_type": "code",
      "source": [
        "x"
      ],
      "metadata": {
        "colab": {
          "base_uri": "https://localhost:8080/"
        },
        "id": "2uedtkbKUvFD",
        "outputId": "b39a7ddc-f69a-4e3b-f150-9c3c01572518"
      },
      "execution_count": 5,
      "outputs": [
        {
          "output_type": "execute_result",
          "data": {
            "text/plain": [
              "array([[ 1.19233761,  1.68984837],\n",
              "       [ 2.10468347,  0.08822   ],\n",
              "       [ 1.04115518, -1.91602762],\n",
              "       [ 0.28432141, -0.11450983],\n",
              "       [-0.67458929, -0.89813178],\n",
              "       [ 0.97869965, -0.57896825],\n",
              "       [-1.30136943,  0.79786149],\n",
              "       [ 1.17062352,  0.99746752],\n",
              "       [-0.12196157, -2.58441629],\n",
              "       [-0.98692549,  0.68339532]])"
            ]
          },
          "metadata": {},
          "execution_count": 5
        }
      ]
    },
    {
      "cell_type": "code",
      "source": [
        "y"
      ],
      "metadata": {
        "colab": {
          "base_uri": "https://localhost:8080/"
        },
        "id": "2O2m0FTEUvXe",
        "outputId": "b15c4e5d-519d-4864-b7b1-58c2b9712976"
      },
      "execution_count": 6,
      "outputs": [
        {
          "output_type": "execute_result",
          "data": {
            "text/plain": [
              "array([1, 1, 0, 0, 0, 1, 0, 1, 1, 0])"
            ]
          },
          "metadata": {},
          "execution_count": 6
        }
      ]
    },
    {
      "cell_type": "code",
      "source": [
        "#convert the data to pytorch tensors\n"
      ],
      "metadata": {
        "id": "Z_Y3nqQkUwMT"
      },
      "execution_count": 7,
      "outputs": []
    },
    {
      "cell_type": "code",
      "source": [
        "x=torch.tensor(x,dtype=torch.float32)\n",
        "y=torch.tensor(y,dtype=torch.long)"
      ],
      "metadata": {
        "id": "bDxvt1L8U2a8"
      },
      "execution_count": 8,
      "outputs": []
    },
    {
      "cell_type": "code",
      "source": [
        "from torch.utils.data import Dataset,DataLoader"
      ],
      "metadata": {
        "id": "_9AKpWe9U9OR"
      },
      "execution_count": 9,
      "outputs": []
    },
    {
      "cell_type": "code",
      "source": [
        "class customdataset(Dataset):\n",
        "  def __init__(self,features,labels):\n",
        "    self.features=features\n",
        "    self.labels=labels\n",
        "  def __len__(self):\n",
        "    return self.features.shape[0]\n",
        "  def __getitem__(self,idx):\n",
        "    x=self.features[idx]\n",
        "    y=self.labels[idx]\n",
        "    return x,y"
      ],
      "metadata": {
        "id": "z54HV-VeVHn5"
      },
      "execution_count": 10,
      "outputs": []
    },
    {
      "cell_type": "code",
      "source": [
        "dataset=customdataset(x,y)"
      ],
      "metadata": {
        "id": "X7zHhPyXVr1I"
      },
      "execution_count": 11,
      "outputs": []
    },
    {
      "cell_type": "code",
      "source": [
        "len(dataset)"
      ],
      "metadata": {
        "colab": {
          "base_uri": "https://localhost:8080/"
        },
        "id": "1_-fsmfNV-ZX",
        "outputId": "8031b74b-f168-428e-e7bb-7a5f7e8a89af"
      },
      "execution_count": 12,
      "outputs": [
        {
          "output_type": "execute_result",
          "data": {
            "text/plain": [
              "10"
            ]
          },
          "metadata": {},
          "execution_count": 12
        }
      ]
    },
    {
      "cell_type": "code",
      "source": [
        "dataset[0]"
      ],
      "metadata": {
        "colab": {
          "base_uri": "https://localhost:8080/"
        },
        "id": "jPfEgN1LWGB6",
        "outputId": "1939ae7d-8597-4060-dd56-1fef859164b4"
      },
      "execution_count": 13,
      "outputs": [
        {
          "output_type": "execute_result",
          "data": {
            "text/plain": [
              "(tensor([1.1923, 1.6898]), tensor(1))"
            ]
          },
          "metadata": {},
          "execution_count": 13
        }
      ]
    },
    {
      "cell_type": "code",
      "source": [
        "dataset[2]"
      ],
      "metadata": {
        "colab": {
          "base_uri": "https://localhost:8080/"
        },
        "id": "jFK6DsuHWIr7",
        "outputId": "a5389ba9-867e-4e1c-d378-a90ea89193fd"
      },
      "execution_count": 14,
      "outputs": [
        {
          "output_type": "execute_result",
          "data": {
            "text/plain": [
              "(tensor([ 1.0412, -1.9160]), tensor(0))"
            ]
          },
          "metadata": {},
          "execution_count": 14
        }
      ]
    },
    {
      "cell_type": "code",
      "source": [
        "#dataloader"
      ],
      "metadata": {
        "id": "xee4m1AdWL_E"
      },
      "execution_count": 15,
      "outputs": []
    },
    {
      "cell_type": "code",
      "source": [
        "dataloader=DataLoader(dataset,batch_size=2,shuffle=True)"
      ],
      "metadata": {
        "id": "1SfZ9uY1WQhV"
      },
      "execution_count": 16,
      "outputs": []
    },
    {
      "cell_type": "code",
      "source": [
        "for batch_features,batch_labels in dataloader:\n",
        "  print(batch_features)\n",
        "  print(batch_labels)\n",
        "  print(\"-\"*50)"
      ],
      "metadata": {
        "colab": {
          "base_uri": "https://localhost:8080/"
        },
        "id": "aFu--ZdXWYnz",
        "outputId": "b1904dba-18fb-4882-9ef9-d61f4ae21fd5"
      },
      "execution_count": 17,
      "outputs": [
        {
          "output_type": "stream",
          "name": "stdout",
          "text": [
            "tensor([[ 0.9787, -0.5790],\n",
            "        [-0.9869,  0.6834]])\n",
            "tensor([1, 0])\n",
            "--------------------------------------------------\n",
            "tensor([[1.1706, 0.9975],\n",
            "        [1.1923, 1.6898]])\n",
            "tensor([1, 1])\n",
            "--------------------------------------------------\n",
            "tensor([[-0.1220, -2.5844],\n",
            "        [-1.3014,  0.7979]])\n",
            "tensor([1, 0])\n",
            "--------------------------------------------------\n",
            "tensor([[ 2.1047,  0.0882],\n",
            "        [ 0.2843, -0.1145]])\n",
            "tensor([1, 0])\n",
            "--------------------------------------------------\n",
            "tensor([[ 1.0412, -1.9160],\n",
            "        [-0.6746, -0.8981]])\n",
            "tensor([0, 0])\n",
            "--------------------------------------------------\n"
          ]
        }
      ]
    },
    {
      "cell_type": "code",
      "source": [
        "\n"
      ],
      "metadata": {
        "id": "cFaIfXuZWm_l"
      },
      "execution_count": 17,
      "outputs": []
    },
    {
      "cell_type": "code",
      "source": [
        "\n"
      ],
      "metadata": {
        "id": "wgaGseWZawbc"
      },
      "execution_count": 17,
      "outputs": []
    },
    {
      "cell_type": "code",
      "source": [
        "import numpy as np\n",
        "import pandas as pd\n",
        "\n",
        "from sklearn.model_selection import train_test_split\n",
        "from sklearn.preprocessing import StandardScaler\n",
        "from sklearn.preprocessing import LabelEncoder\n",
        "df = pd.read_csv('https://raw.githubusercontent.com/gscdit/Breast-Cancer-Detection/refs/heads/master/data.csv')\n",
        "df.head()\n",
        "df.drop(columns=['id', 'Unnamed: 32'], inplace= True)\n",
        "X_train, X_test, y_train, y_test = train_test_split(df.iloc[:, 1:], df.iloc[:, 0], test_size=0.2)\n",
        "scaler = StandardScaler()\n",
        "X_train = scaler.fit_transform(X_train)\n",
        "X_test = scaler.transform(X_test)\n",
        "encoder = LabelEncoder()\n",
        "y_train = encoder.fit_transform(y_train)\n",
        "y_test = encoder.transform(y_test)\n",
        "X_train_tensor = torch.from_numpy(X_train)\n",
        "X_test_tensor = torch.from_numpy(X_test)\n",
        "y_train_tensor = torch.from_numpy(y_train)\n",
        "y_test_tensor = torch.from_numpy(y_test)"
      ],
      "metadata": {
        "id": "bj4k65mxawm2"
      },
      "execution_count": 18,
      "outputs": []
    },
    {
      "cell_type": "code",
      "source": [
        "class customdataset(Dataset):\n",
        "  def __init__(self,features,labels):\n",
        "    self.features=features\n",
        "    self.labels=labels\n",
        "  def __len__(self):\n",
        "    return self.features.shape[0]\n",
        "  def __getitem__(self,idx):\n",
        "    x=self.features[idx]\n",
        "    y=self.labels[idx]\n",
        "    return x,y\n"
      ],
      "metadata": {
        "id": "SZvLPEXodypc"
      },
      "execution_count": 19,
      "outputs": []
    },
    {
      "cell_type": "code",
      "source": [
        "train_dataset=customdataset(X_train_tensor,y_train_tensor)\n",
        "test_dataset=customdataset(X_test_tensor,y_test_tensor)"
      ],
      "metadata": {
        "id": "M_Rim-pud-qu"
      },
      "execution_count": 20,
      "outputs": []
    },
    {
      "cell_type": "code",
      "source": [
        "train_loader=DataLoader(train_dataset,batch_size=32,shuffle=True)\n",
        "test_loader=DataLoader(test_dataset,batch_size=32,shuffle=True)"
      ],
      "metadata": {
        "id": "E2x3-EEueHDu"
      },
      "execution_count": 23,
      "outputs": []
    },
    {
      "cell_type": "code",
      "source": [
        "import torch.nn as nn\n",
        "class MySimpleNN(nn.Module):\n",
        "  def __init__(self, num_features):\n",
        "    super().__init__()\n",
        "    self.linear = nn.Linear(num_features, 1)\n",
        "    self.sigmoid = nn.Sigmoid()\n",
        "\n",
        "\n",
        "  def forward(self, features):\n",
        "    out = self.linear(features)\n",
        "    out = self.sigmoid(out)\n",
        "    return out\n",
        "\n",
        "\n",
        "\n",
        "\n",
        "\n",
        "learning_rate = 0.1\n",
        "epochs = 25"
      ],
      "metadata": {
        "id": "Xw3Vgx1xekZ6"
      },
      "execution_count": 24,
      "outputs": []
    },
    {
      "cell_type": "code",
      "source": [
        "# create model\n",
        "model = MySimpleNN(X_train_tensor.shape[1])\n",
        "model=model.double()\n",
        "optimizer=torch.optim.SGD(model.parameters(),lr=learning_rate)\n",
        "#model.parameter is an iterator that give all paramter in  model\n",
        "loss_function=nn.BCELoss()\n",
        "# define loop\n",
        "for epoch in range(epochs):\n",
        "  for batch_features, batch_labels in train_loader:\n",
        "\n",
        "    # forward pass\n",
        "    y_pred = model(batch_features.double())\n",
        "\n",
        "    # loss calculate\n",
        "    loss = loss_function(y_pred, batch_labels.view(-1,1).double())\n",
        "    #zero gradient\n",
        "    optimizer.zero_grad()\n",
        "    # backward pass\n",
        "    loss.backward()\n",
        "\n",
        "    # parameters update\n",
        "    optimizer.step()\n",
        "\n",
        "\n",
        "    # print loss in each epoch\n",
        "    print(f'Epoch: {epoch + 1}, Loss: {loss.item()}')"
      ],
      "metadata": {
        "colab": {
          "base_uri": "https://localhost:8080/"
        },
        "id": "n5fxe5cmeTTz",
        "outputId": "9b8e4c16-aac0-4acd-e782-43b4160e0217"
      },
      "execution_count": 26,
      "outputs": [
        {
          "output_type": "stream",
          "name": "stdout",
          "text": [
            "Epoch: 1, Loss: 0.5083670986043002\n",
            "Epoch: 1, Loss: 0.4025758217352909\n",
            "Epoch: 1, Loss: 0.367023016527958\n",
            "Epoch: 1, Loss: 0.3397748352875424\n",
            "Epoch: 1, Loss: 0.33540904481516254\n",
            "Epoch: 1, Loss: 0.23283203239237812\n",
            "Epoch: 1, Loss: 0.24669888131660622\n",
            "Epoch: 1, Loss: 0.22552700835886036\n",
            "Epoch: 1, Loss: 0.22746870107421063\n",
            "Epoch: 1, Loss: 0.19837761244956875\n",
            "Epoch: 1, Loss: 0.2681420329183567\n",
            "Epoch: 1, Loss: 0.1900911814811191\n",
            "Epoch: 1, Loss: 0.25708678504032345\n",
            "Epoch: 1, Loss: 0.28416891373070075\n",
            "Epoch: 1, Loss: 0.14393463828868117\n",
            "Epoch: 2, Loss: 0.2108588849303022\n",
            "Epoch: 2, Loss: 0.19649618600290136\n",
            "Epoch: 2, Loss: 0.22329596995612544\n",
            "Epoch: 2, Loss: 0.1658183956696598\n",
            "Epoch: 2, Loss: 0.14997900186167626\n",
            "Epoch: 2, Loss: 0.16001461270043654\n",
            "Epoch: 2, Loss: 0.20712978313459865\n",
            "Epoch: 2, Loss: 0.11790728533982514\n",
            "Epoch: 2, Loss: 0.1286749409933179\n",
            "Epoch: 2, Loss: 0.13095865576285529\n",
            "Epoch: 2, Loss: 0.23585344371495753\n",
            "Epoch: 2, Loss: 0.12614204942952628\n",
            "Epoch: 2, Loss: 0.13709795829861302\n",
            "Epoch: 2, Loss: 0.26519759345034843\n",
            "Epoch: 2, Loss: 0.17780442760389525\n",
            "Epoch: 3, Loss: 0.15395838761979924\n",
            "Epoch: 3, Loss: 0.12835285433160454\n",
            "Epoch: 3, Loss: 0.12802495933539895\n",
            "Epoch: 3, Loss: 0.13094407079243536\n",
            "Epoch: 3, Loss: 0.1244850062832991\n",
            "Epoch: 3, Loss: 0.10815142187997501\n",
            "Epoch: 3, Loss: 0.16447877312387527\n",
            "Epoch: 3, Loss: 0.11136560072653669\n",
            "Epoch: 3, Loss: 0.15503180070468994\n",
            "Epoch: 3, Loss: 0.13018098220516156\n",
            "Epoch: 3, Loss: 0.25133637862244174\n",
            "Epoch: 3, Loss: 0.2164978600645841\n",
            "Epoch: 3, Loss: 0.10987784834238372\n",
            "Epoch: 3, Loss: 0.09559938827029993\n",
            "Epoch: 3, Loss: 0.22817454562218537\n",
            "Epoch: 4, Loss: 0.1269840642927592\n",
            "Epoch: 4, Loss: 0.08574231170301763\n",
            "Epoch: 4, Loss: 0.13686698486957904\n",
            "Epoch: 4, Loss: 0.11201912105444936\n",
            "Epoch: 4, Loss: 0.1432030020165007\n",
            "Epoch: 4, Loss: 0.1412160642589572\n",
            "Epoch: 4, Loss: 0.11143094317779957\n",
            "Epoch: 4, Loss: 0.05755984086845518\n",
            "Epoch: 4, Loss: 0.1106348236166303\n",
            "Epoch: 4, Loss: 0.17211875708102722\n",
            "Epoch: 4, Loss: 0.25935804239127846\n",
            "Epoch: 4, Loss: 0.10659793172949819\n",
            "Epoch: 4, Loss: 0.09585960179268668\n",
            "Epoch: 4, Loss: 0.13649785445251017\n",
            "Epoch: 4, Loss: 0.17052540275426237\n",
            "Epoch: 5, Loss: 0.23385997778116713\n",
            "Epoch: 5, Loss: 0.1742943025004769\n",
            "Epoch: 5, Loss: 0.21924247560819426\n",
            "Epoch: 5, Loss: 0.15066387228979788\n",
            "Epoch: 5, Loss: 0.0913552025698667\n",
            "Epoch: 5, Loss: 0.13013201866865015\n",
            "Epoch: 5, Loss: 0.0717351253659417\n",
            "Epoch: 5, Loss: 0.0961426504402187\n",
            "Epoch: 5, Loss: 0.05526758294146849\n",
            "Epoch: 5, Loss: 0.08853936436125207\n",
            "Epoch: 5, Loss: 0.08478420640445167\n",
            "Epoch: 5, Loss: 0.14944859189964457\n",
            "Epoch: 5, Loss: 0.08504238831005488\n",
            "Epoch: 5, Loss: 0.042828039782444045\n",
            "Epoch: 5, Loss: 0.06060470635873755\n",
            "Epoch: 6, Loss: 0.11551905408793062\n",
            "Epoch: 6, Loss: 0.17868674630227555\n",
            "Epoch: 6, Loss: 0.07509185223800399\n",
            "Epoch: 6, Loss: 0.07588361273019158\n",
            "Epoch: 6, Loss: 0.11796097657385675\n",
            "Epoch: 6, Loss: 0.05934746149383339\n",
            "Epoch: 6, Loss: 0.12372783299822346\n",
            "Epoch: 6, Loss: 0.07818786949794224\n",
            "Epoch: 6, Loss: 0.2070975986372683\n",
            "Epoch: 6, Loss: 0.0944691055106706\n",
            "Epoch: 6, Loss: 0.16955332386342012\n",
            "Epoch: 6, Loss: 0.10611799663171058\n",
            "Epoch: 6, Loss: 0.04479951619667004\n",
            "Epoch: 6, Loss: 0.09498890275999529\n",
            "Epoch: 6, Loss: 0.20157899778314253\n",
            "Epoch: 7, Loss: 0.14960894524646323\n",
            "Epoch: 7, Loss: 0.06432665162156113\n",
            "Epoch: 7, Loss: 0.17486150566329428\n",
            "Epoch: 7, Loss: 0.0858790961061655\n",
            "Epoch: 7, Loss: 0.09032405644670445\n",
            "Epoch: 7, Loss: 0.07265513549755975\n",
            "Epoch: 7, Loss: 0.11696690692017628\n",
            "Epoch: 7, Loss: 0.1433826812846546\n",
            "Epoch: 7, Loss: 0.12007924693848315\n",
            "Epoch: 7, Loss: 0.12050405450673621\n",
            "Epoch: 7, Loss: 0.07851909917053974\n",
            "Epoch: 7, Loss: 0.14173184828593743\n",
            "Epoch: 7, Loss: 0.07871616164409426\n",
            "Epoch: 7, Loss: 0.06197582248591439\n",
            "Epoch: 7, Loss: 0.0421992248617165\n",
            "Epoch: 8, Loss: 0.22543542632346592\n",
            "Epoch: 8, Loss: 0.0784216275131165\n",
            "Epoch: 8, Loss: 0.06642107213698532\n",
            "Epoch: 8, Loss: 0.09332269302706732\n",
            "Epoch: 8, Loss: 0.0937555148470913\n",
            "Epoch: 8, Loss: 0.06636929253023247\n",
            "Epoch: 8, Loss: 0.03459087377946765\n",
            "Epoch: 8, Loss: 0.11255243953091265\n",
            "Epoch: 8, Loss: 0.15508148698063567\n",
            "Epoch: 8, Loss: 0.08069623308083086\n",
            "Epoch: 8, Loss: 0.1206180317915353\n",
            "Epoch: 8, Loss: 0.11833309938750868\n",
            "Epoch: 8, Loss: 0.07672274615462152\n",
            "Epoch: 8, Loss: 0.10372863972316858\n",
            "Epoch: 8, Loss: 0.09320954682950806\n",
            "Epoch: 9, Loss: 0.0672908373044635\n",
            "Epoch: 9, Loss: 0.1045801081472612\n",
            "Epoch: 9, Loss: 0.11539023571154094\n",
            "Epoch: 9, Loss: 0.06785739291104805\n",
            "Epoch: 9, Loss: 0.058393178702677136\n",
            "Epoch: 9, Loss: 0.1771411508163086\n",
            "Epoch: 9, Loss: 0.0964201276664082\n",
            "Epoch: 9, Loss: 0.10482313662012588\n",
            "Epoch: 9, Loss: 0.04254469113168976\n",
            "Epoch: 9, Loss: 0.09563523282041778\n",
            "Epoch: 9, Loss: 0.11834943360997419\n",
            "Epoch: 9, Loss: 0.09375629603690308\n",
            "Epoch: 9, Loss: 0.12987951208089343\n",
            "Epoch: 9, Loss: 0.10247182592252543\n",
            "Epoch: 9, Loss: 0.07888197567126636\n",
            "Epoch: 10, Loss: 0.0369514809869569\n",
            "Epoch: 10, Loss: 0.08757571833219027\n",
            "Epoch: 10, Loss: 0.04116781902203793\n",
            "Epoch: 10, Loss: 0.07008642863655035\n",
            "Epoch: 10, Loss: 0.15819327031839836\n",
            "Epoch: 10, Loss: 0.17117261054983565\n",
            "Epoch: 10, Loss: 0.12215145822730511\n",
            "Epoch: 10, Loss: 0.04840098462179948\n",
            "Epoch: 10, Loss: 0.11676969117952132\n",
            "Epoch: 10, Loss: 0.07148765181850007\n",
            "Epoch: 10, Loss: 0.19541214288543876\n",
            "Epoch: 10, Loss: 0.0423091221702185\n",
            "Epoch: 10, Loss: 0.06914117037383165\n",
            "Epoch: 10, Loss: 0.08806975068368966\n",
            "Epoch: 10, Loss: 0.12992177370710753\n",
            "Epoch: 11, Loss: 0.0625643926683944\n",
            "Epoch: 11, Loss: 0.06425033453678465\n",
            "Epoch: 11, Loss: 0.04651147639920385\n",
            "Epoch: 11, Loss: 0.26073841458451225\n",
            "Epoch: 11, Loss: 0.07158759962633601\n",
            "Epoch: 11, Loss: 0.10946398200942092\n",
            "Epoch: 11, Loss: 0.18654636961984974\n",
            "Epoch: 11, Loss: 0.05920986029597718\n",
            "Epoch: 11, Loss: 0.059899075745232656\n",
            "Epoch: 11, Loss: 0.04519524309832815\n",
            "Epoch: 11, Loss: 0.03441329956764884\n",
            "Epoch: 11, Loss: 0.08384519050950295\n",
            "Epoch: 11, Loss: 0.1229325511468461\n",
            "Epoch: 11, Loss: 0.08998167574775343\n",
            "Epoch: 11, Loss: 0.0651681543543226\n",
            "Epoch: 12, Loss: 0.041955165123283476\n",
            "Epoch: 12, Loss: 0.03673557654082465\n",
            "Epoch: 12, Loss: 0.05067074509840986\n",
            "Epoch: 12, Loss: 0.2675727409891953\n",
            "Epoch: 12, Loss: 0.10592500979604413\n",
            "Epoch: 12, Loss: 0.08833078045529641\n",
            "Epoch: 12, Loss: 0.0516053138343334\n",
            "Epoch: 12, Loss: 0.050645796398098145\n",
            "Epoch: 12, Loss: 0.11184445967640597\n",
            "Epoch: 12, Loss: 0.1468687804187251\n",
            "Epoch: 12, Loss: 0.07479000343592296\n",
            "Epoch: 12, Loss: 0.07179580366569359\n",
            "Epoch: 12, Loss: 0.060258726312380675\n",
            "Epoch: 12, Loss: 0.06196584694802658\n",
            "Epoch: 12, Loss: 0.26137373532347097\n",
            "Epoch: 13, Loss: 0.07254373063758764\n",
            "Epoch: 13, Loss: 0.10000070805631159\n",
            "Epoch: 13, Loss: 0.07101098932207411\n",
            "Epoch: 13, Loss: 0.09021210887390316\n",
            "Epoch: 13, Loss: 0.12071529010407654\n",
            "Epoch: 13, Loss: 0.06229578498232822\n",
            "Epoch: 13, Loss: 0.06738305047055633\n",
            "Epoch: 13, Loss: 0.12905738324197583\n",
            "Epoch: 13, Loss: 0.0840643923434579\n",
            "Epoch: 13, Loss: 0.20449382345765937\n",
            "Epoch: 13, Loss: 0.06204994107066507\n",
            "Epoch: 13, Loss: 0.07388138066566055\n",
            "Epoch: 13, Loss: 0.0636554280948264\n",
            "Epoch: 13, Loss: 0.037017469249079685\n",
            "Epoch: 13, Loss: 0.031027990963036885\n",
            "Epoch: 14, Loss: 0.05216626364862931\n",
            "Epoch: 14, Loss: 0.06853457637090093\n",
            "Epoch: 14, Loss: 0.06856827977808105\n",
            "Epoch: 14, Loss: 0.16548826607863026\n",
            "Epoch: 14, Loss: 0.09464470978344156\n",
            "Epoch: 14, Loss: 0.04579615239045133\n",
            "Epoch: 14, Loss: 0.09136986008046204\n",
            "Epoch: 14, Loss: 0.059933026027369836\n",
            "Epoch: 14, Loss: 0.06792201145213933\n",
            "Epoch: 14, Loss: 0.11240986283198842\n",
            "Epoch: 14, Loss: 0.147020126458365\n",
            "Epoch: 14, Loss: 0.05095896447208008\n",
            "Epoch: 14, Loss: 0.1185260490015017\n",
            "Epoch: 14, Loss: 0.07245915793420946\n",
            "Epoch: 14, Loss: 0.02457837163065655\n",
            "Epoch: 15, Loss: 0.09901631323244017\n",
            "Epoch: 15, Loss: 0.061780274897624075\n",
            "Epoch: 15, Loss: 0.06511232876234842\n",
            "Epoch: 15, Loss: 0.05308558592586022\n",
            "Epoch: 15, Loss: 0.06713982064379456\n",
            "Epoch: 15, Loss: 0.1560859425336664\n",
            "Epoch: 15, Loss: 0.1147351728857495\n",
            "Epoch: 15, Loss: 0.08562191978251753\n",
            "Epoch: 15, Loss: 0.05856271456776027\n",
            "Epoch: 15, Loss: 0.04066787986462808\n",
            "Epoch: 15, Loss: 0.06777038237696803\n",
            "Epoch: 15, Loss: 0.1209045018670076\n",
            "Epoch: 15, Loss: 0.09317365912833409\n",
            "Epoch: 15, Loss: 0.08372705903387632\n",
            "Epoch: 15, Loss: 0.14128781837556387\n",
            "Epoch: 16, Loss: 0.0476045751054454\n",
            "Epoch: 16, Loss: 0.13474297751332784\n",
            "Epoch: 16, Loss: 0.21751819896629346\n",
            "Epoch: 16, Loss: 0.18087275253844817\n",
            "Epoch: 16, Loss: 0.06633406845296931\n",
            "Epoch: 16, Loss: 0.06841688571229103\n",
            "Epoch: 16, Loss: 0.05269035047256904\n",
            "Epoch: 16, Loss: 0.06556456114958156\n",
            "Epoch: 16, Loss: 0.07451262944856188\n",
            "Epoch: 16, Loss: 0.04244644658260396\n",
            "Epoch: 16, Loss: 0.060492761479670365\n",
            "Epoch: 16, Loss: 0.040039264568059604\n",
            "Epoch: 16, Loss: 0.06524960735595835\n",
            "Epoch: 16, Loss: 0.03258448015287832\n",
            "Epoch: 16, Loss: 0.12474437089080867\n",
            "Epoch: 17, Loss: 0.2826476173123501\n",
            "Epoch: 17, Loss: 0.03344880959111414\n",
            "Epoch: 17, Loss: 0.1077071822324196\n",
            "Epoch: 17, Loss: 0.08135850179602339\n",
            "Epoch: 17, Loss: 0.037901041462522544\n",
            "Epoch: 17, Loss: 0.06535965269805788\n",
            "Epoch: 17, Loss: 0.02217363763851883\n",
            "Epoch: 17, Loss: 0.07588866276620647\n",
            "Epoch: 17, Loss: 0.08896339796706201\n",
            "Epoch: 17, Loss: 0.06648321650641828\n",
            "Epoch: 17, Loss: 0.08317394388815302\n",
            "Epoch: 17, Loss: 0.06125117432971612\n",
            "Epoch: 17, Loss: 0.06158189470586818\n",
            "Epoch: 17, Loss: 0.08492276890129204\n",
            "Epoch: 17, Loss: 0.032126949156514616\n",
            "Epoch: 18, Loss: 0.08356881366123102\n",
            "Epoch: 18, Loss: 0.06090518804690948\n",
            "Epoch: 18, Loss: 0.028861674837131875\n",
            "Epoch: 18, Loss: 0.07339801263656172\n",
            "Epoch: 18, Loss: 0.05285518182056768\n",
            "Epoch: 18, Loss: 0.020392109865973732\n",
            "Epoch: 18, Loss: 0.013404273988784559\n",
            "Epoch: 18, Loss: 0.20080606663184383\n",
            "Epoch: 18, Loss: 0.1105048317440521\n",
            "Epoch: 18, Loss: 0.058570070956704086\n",
            "Epoch: 18, Loss: 0.13275339946560416\n",
            "Epoch: 18, Loss: 0.09028129947775608\n",
            "Epoch: 18, Loss: 0.12853595968421877\n",
            "Epoch: 18, Loss: 0.08247230350494766\n",
            "Epoch: 18, Loss: 0.016517675256531354\n",
            "Epoch: 19, Loss: 0.022291150523291052\n",
            "Epoch: 19, Loss: 0.15360736257188518\n",
            "Epoch: 19, Loss: 0.037491442486704774\n",
            "Epoch: 19, Loss: 0.05141620179504927\n",
            "Epoch: 19, Loss: 0.21545353847217857\n",
            "Epoch: 19, Loss: 0.03970622328337867\n",
            "Epoch: 19, Loss: 0.15174242185146716\n",
            "Epoch: 19, Loss: 0.06679105856854477\n",
            "Epoch: 19, Loss: 0.07683772317543076\n",
            "Epoch: 19, Loss: 0.06650862233992473\n",
            "Epoch: 19, Loss: 0.07288155968185578\n",
            "Epoch: 19, Loss: 0.03708907951810508\n",
            "Epoch: 19, Loss: 0.048485222665992235\n",
            "Epoch: 19, Loss: 0.06474917019763994\n",
            "Epoch: 19, Loss: 0.09665432748373899\n",
            "Epoch: 20, Loss: 0.06409666534538885\n",
            "Epoch: 20, Loss: 0.06880780651018303\n",
            "Epoch: 20, Loss: 0.27210494335298085\n",
            "Epoch: 20, Loss: 0.044184632325098006\n",
            "Epoch: 20, Loss: 0.07420489721215733\n",
            "Epoch: 20, Loss: 0.0752356774844464\n",
            "Epoch: 20, Loss: 0.06659281579092098\n",
            "Epoch: 20, Loss: 0.037466872549795374\n",
            "Epoch: 20, Loss: 0.033949118228614586\n",
            "Epoch: 20, Loss: 0.05006852826954313\n",
            "Epoch: 20, Loss: 0.05387456871379961\n",
            "Epoch: 20, Loss: 0.09998265454319019\n",
            "Epoch: 20, Loss: 0.10230450445423583\n",
            "Epoch: 20, Loss: 0.051681184345543446\n",
            "Epoch: 20, Loss: 0.07503153612502858\n",
            "Epoch: 21, Loss: 0.06219689847073334\n",
            "Epoch: 21, Loss: 0.03003290321593927\n",
            "Epoch: 21, Loss: 0.0688070930419295\n",
            "Epoch: 21, Loss: 0.05575408367028574\n",
            "Epoch: 21, Loss: 0.22824576892943887\n",
            "Epoch: 21, Loss: 0.037196716408092884\n",
            "Epoch: 21, Loss: 0.06607062135257612\n",
            "Epoch: 21, Loss: 0.05845311739023458\n",
            "Epoch: 21, Loss: 0.09189887890698659\n",
            "Epoch: 21, Loss: 0.03403657884202488\n",
            "Epoch: 21, Loss: 0.04030195488451985\n",
            "Epoch: 21, Loss: 0.049030463017266386\n",
            "Epoch: 21, Loss: 0.0697207898345766\n",
            "Epoch: 21, Loss: 0.14226348738195022\n",
            "Epoch: 21, Loss: 0.2930489107065724\n",
            "Epoch: 22, Loss: 0.12370485075493844\n",
            "Epoch: 22, Loss: 0.22315737447906964\n",
            "Epoch: 22, Loss: 0.08627971128371262\n",
            "Epoch: 22, Loss: 0.08124946170618072\n",
            "Epoch: 22, Loss: 0.07060520944864203\n",
            "Epoch: 22, Loss: 0.07953575915389295\n",
            "Epoch: 22, Loss: 0.04536774999657499\n",
            "Epoch: 22, Loss: 0.11941391336994421\n",
            "Epoch: 22, Loss: 0.021573078535595397\n",
            "Epoch: 22, Loss: 0.07186660851148131\n",
            "Epoch: 22, Loss: 0.018791549689839246\n",
            "Epoch: 22, Loss: 0.06368924524310977\n",
            "Epoch: 22, Loss: 0.01713061488341053\n",
            "Epoch: 22, Loss: 0.06245904996052573\n",
            "Epoch: 22, Loss: 0.002440900900573649\n",
            "Epoch: 23, Loss: 0.03857019629483646\n",
            "Epoch: 23, Loss: 0.0707531983868433\n",
            "Epoch: 23, Loss: 0.07335367092381795\n",
            "Epoch: 23, Loss: 0.03897046147503273\n",
            "Epoch: 23, Loss: 0.10443875941826483\n",
            "Epoch: 23, Loss: 0.15670226985671074\n",
            "Epoch: 23, Loss: 0.1056397582649321\n",
            "Epoch: 23, Loss: 0.032680470479583154\n",
            "Epoch: 23, Loss: 0.0457638819101627\n",
            "Epoch: 23, Loss: 0.029889585274481757\n",
            "Epoch: 23, Loss: 0.06952996335668118\n",
            "Epoch: 23, Loss: 0.08546845848687826\n",
            "Epoch: 23, Loss: 0.08101939285302442\n",
            "Epoch: 23, Loss: 0.13545656185607607\n",
            "Epoch: 23, Loss: 0.022185040592472515\n",
            "Epoch: 24, Loss: 0.10590724732795717\n",
            "Epoch: 24, Loss: 0.04007455844341663\n",
            "Epoch: 24, Loss: 0.032204092665751693\n",
            "Epoch: 24, Loss: 0.06604516380979761\n",
            "Epoch: 24, Loss: 0.04265639078884376\n",
            "Epoch: 24, Loss: 0.05778808175971749\n",
            "Epoch: 24, Loss: 0.07387069752168074\n",
            "Epoch: 24, Loss: 0.0753353920827269\n",
            "Epoch: 24, Loss: 0.06906708141264932\n",
            "Epoch: 24, Loss: 0.03655581334154012\n",
            "Epoch: 24, Loss: 0.13357428410130467\n",
            "Epoch: 24, Loss: 0.03970075252071932\n",
            "Epoch: 24, Loss: 0.037557792358144215\n",
            "Epoch: 24, Loss: 0.11488154977434217\n",
            "Epoch: 24, Loss: 0.6351701501659176\n",
            "Epoch: 25, Loss: 0.024711125381751915\n",
            "Epoch: 25, Loss: 0.050692665833987655\n",
            "Epoch: 25, Loss: 0.04806600863056182\n",
            "Epoch: 25, Loss: 0.2056753731562084\n",
            "Epoch: 25, Loss: 0.03466341771778058\n",
            "Epoch: 25, Loss: 0.05456918943942341\n",
            "Epoch: 25, Loss: 0.07260833849559395\n",
            "Epoch: 25, Loss: 0.04716461557435976\n",
            "Epoch: 25, Loss: 0.11438362623903334\n",
            "Epoch: 25, Loss: 0.04148423958089955\n",
            "Epoch: 25, Loss: 0.05161452772648512\n",
            "Epoch: 25, Loss: 0.13985387793064905\n",
            "Epoch: 25, Loss: 0.1345936903337221\n",
            "Epoch: 25, Loss: 0.033350201052357135\n",
            "Epoch: 25, Loss: 0.008176011626263092\n"
          ]
        }
      ]
    },
    {
      "cell_type": "code",
      "source": [
        "# model evaluation\n",
        "with torch.no_grad():\n",
        "  for batch_features, batch_labels in test_loader:\n",
        "    y_pred = model.forward(batch_features.double())\n",
        "    y_pred = (y_pred > 0.9).float()\n",
        "    accuracy = (y_pred == batch_labels).float().mean()\n",
        "    print(f'Accuracy: {accuracy.item()}')\n"
      ],
      "metadata": {
        "colab": {
          "base_uri": "https://localhost:8080/"
        },
        "id": "YrKB_UP7euCE",
        "outputId": "2d310b19-8d41-4bf1-ed83-8beeb7aab81c"
      },
      "execution_count": 27,
      "outputs": [
        {
          "output_type": "stream",
          "name": "stdout",
          "text": [
            "Accuracy: 0.53125\n",
            "Accuracy: 0.7109375\n",
            "Accuracy: 0.6640625\n",
            "Accuracy: 0.5555555820465088\n"
          ]
        }
      ]
    },
    {
      "cell_type": "code",
      "source": [],
      "metadata": {
        "id": "1m0GnmNjfmEv"
      },
      "execution_count": null,
      "outputs": []
    }
  ]
}